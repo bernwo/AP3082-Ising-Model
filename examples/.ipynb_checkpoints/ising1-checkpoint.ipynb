{
 "cells": [
  {
   "cell_type": "code",
   "execution_count": 43,
   "metadata": {},
   "outputs": [],
   "source": [
    "import tkinter as tk\n",
    "import numpy as np\n",
    "from scipy.constants import k as kB"
   ]
  },
  {
   "cell_type": "code",
   "execution_count": 47,
   "metadata": {},
   "outputs": [],
   "source": [
    "def random_spins(N):\n",
    "    return np.random.randint(0,2,(N,N))\n",
    "\n",
    "def metropolis_update(system,N,temp):\n",
    "\n",
    "    for i in range(N):\n",
    "        for j in range(N):\n",
    "            a,b = np.random.randint(0,2,(2))\n",
    "            connections = system[a,b-1]+system[a,b+1]+system[a-1,b]+system[a+1,b]\n",
    "            flip_cost = 2*connections*system[a,b]\n",
    "            if flip_cost<0:\n",
    "                flip = 0\n",
    "            elif np.random.rand()<np.exp(-flip_cost/(kB*temp)):\n",
    "                flip = 0\n",
    "            else:\n",
    "                flip = 1\n",
    "            system[a,b] = flip\n",
    "            \n",
    "    return system\n",
    "\n",
    "def simulation(temp,steps,N):\n",
    "    \n",
    "    updated_system = random_spins(N)\n",
    "    systems = []\n",
    "    for i in range(steps):\n",
    "        systems.append(updated_system)\n",
    "        updated_system = metropolis_update(updated_system,N,temp)\n",
    "    return systems\n",
    "            "
   ]
  },
  {
   "cell_type": "code",
   "execution_count": 48,
   "metadata": {},
   "outputs": [],
   "source": [
    "example = simulation(0.001,100,10)"
   ]
  },
  {
   "cell_type": "code",
   "execution_count": 50,
   "metadata": {},
   "outputs": [],
   "source": [
    "class MyCanvas(tk.Canvas):\n",
    "    \"\"\"\n",
    "    Class that creates an animation.\n",
    "\n",
    "    Parameters:\n",
    "    -----------\n",
    "        master: tkinter.Tk() object\n",
    "            Window where animation is executed\n",
    "    \"\"\"\n",
    "\n",
    "    def __init__(self, master, systems, W=600, H=600):\n",
    "        \"\"\"\n",
    "\n",
    "        \"\"\"\n",
    "        super().__init__(master, \n",
    "                         width=W, \n",
    "                         height=H, \n",
    "                         bg=\"snow2\", \n",
    "                         bd=0, \n",
    "                         highlightthickness=0, \n",
    "                         relief=\"ridge\")\n",
    "        self.pack()\n",
    "        self.time=0\n",
    "        self.N = len(systems[0])\n",
    "        self.sleep_time = sleep_time\n",
    "        self.steps = len(systems)\n",
    "        self.scale = W//self.N\n",
    "        self.run()\n",
    "\n",
    "\n",
    "\n",
    "    def run(self):\n",
    "        \"\"\"\n",
    "        Execute time step.\n",
    "        This function is called recursively using self.after(time(ms), self.run) .\n",
    "        \"\"\"\n",
    "\n",
    "        for i in range(self.N):\n",
    "            \n",
    "            for j in range(self.N):\n",
    "                \n",
    "                self.spin = int(systems[self.time,i,j])\n",
    "                \n",
    "                if self.spin == 1:\n",
    "                    self.create_rectangle(i*scale, \n",
    "                                          (i+1)*scale, \n",
    "                                          j*scale, \n",
    "                                          (j+1)*scale, \n",
    "                                          fill=\"white\",\n",
    "                                          label=\"block\")\n",
    "                else:\n",
    "                    self.create_rectangle(i*scale, \n",
    "                                          (i+1)*scale, \n",
    "                                          j*scale, \n",
    "                                          (j+1)*scale, \n",
    "                                          fill=\"black\",\n",
    "                                          label=\"block\")\n",
    "        \n",
    "        self.time=(self.time+1)%self.steps\n",
    "        \n",
    "        super().update()\n",
    "        self.after(1000, self.run)\n",
    "        "
   ]
  },
  {
   "cell_type": "code",
   "execution_count": null,
   "metadata": {},
   "outputs": [],
   "source": [
    "W=600\n",
    "H=600"
   ]
  }
 ],
 "metadata": {
  "kernelspec": {
   "display_name": "Python 3",
   "language": "python",
   "name": "python3"
  },
  "language_info": {
   "codemirror_mode": {
    "name": "ipython",
    "version": 3
   },
   "file_extension": ".py",
   "mimetype": "text/x-python",
   "name": "python",
   "nbconvert_exporter": "python",
   "pygments_lexer": "ipython3",
   "version": "3.8.2"
  }
 },
 "nbformat": 4,
 "nbformat_minor": 4
}
