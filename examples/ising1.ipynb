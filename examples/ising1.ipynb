{
 "cells": [
  {
   "cell_type": "code",
   "execution_count": 43,
   "metadata": {},
   "outputs": [],
   "source": [
    "import tkinter as tk\n",
    "import numpy as np\n",
    "from scipy.constants import k as kB"
   ]
  },
  {
   "cell_type": "code",
   "execution_count": 47,
   "metadata": {},
   "outputs": [],
   "source": [
    "def random_spins(N):\n",
    "    return np.random.randint(0,2,(N,N))\n",
    "\n",
    "def metropolis_update(system,N,temp):\n",
    "\n",
    "    for i in range(N):\n",
    "        for j in range(N):\n",
    "            a,b = np.random.randint(0,2,(2))\n",
    "            connections = system[a,b-1]+system[a,b+1]+system[a-1,b]+system[a+1,b]\n",
    "            flip_cost = 2*connections*system[a,b]\n",
    "            if flip_cost<0:\n",
    "                flip = 0\n",
    "            elif np.random.rand()<np.exp(-flip_cost/(kB*temp)):\n",
    "                flip = 0\n",
    "            else:\n",
    "                flip = 1\n",
    "            system[a,b] = flip\n",
    "            \n",
    "    return system\n",
    "\n",
    "def simulation(temp,steps,N):\n",
    "    \n",
    "    updated_system = random_spins(N)\n",
    "    systems = []\n",
    "    for i in range(steps):\n",
    "        systems.append(updated_system)\n",
    "        updated_system = metropolis_update(updated_system,N,temp)\n",
    "    return systems\n",
    "            "
   ]
  },
  {
   "cell_type": "code",
   "execution_count": 48,
   "metadata": {},
   "outputs": [],
   "source": [
    "example = simulation(0.001,100,10)"
   ]
  },
  {
   "cell_type": "code",
   "execution_count": 67,
   "metadata": {},
   "outputs": [],
   "source": [
    "class MyCanvas(tk.Canvas):\n",
    "    \"\"\"\n",
    "    Class that creates an animation.\n",
    "\n",
    "    Parameters:\n",
    "    -----------\n",
    "        master: tkinter.Tk() object\n",
    "            Window where animation is executed\n",
    "    \"\"\"\n",
    "\n",
    "    def __init__(self, master, systems, W=600, H=600):\n",
    "        \"\"\"\n",
    "\n",
    "        \"\"\"\n",
    "        super().__init__(master, \n",
    "                         width=W, \n",
    "                         height=H, \n",
    "                         bg=\"snow2\", \n",
    "                         bd=0, \n",
    "                         highlightthickness=0, \n",
    "                         relief=\"ridge\")\n",
    "        self.pack()\n",
    "        self.time=0\n",
    "        self.data = systems\n",
    "        self.N = len(systems[0])\n",
    "        self.steps = len(systems)\n",
    "        self.scale = W//self.N\n",
    "        self.run()\n",
    "\n",
    "\n",
    "\n",
    "    def run(self):\n",
    "        \"\"\"\n",
    "        Execute time step.\n",
    "        This function is called recursively using self.after(time(ms), self.run) .\n",
    "        \"\"\"\n",
    "\n",
    "        for i in range(self.N):\n",
    "            \n",
    "            for j in range(self.N):\n",
    "                print(self.time)\n",
    "                self.spin = int(self.data[self.time][i][j])\n",
    "                \n",
    "                if self.spin == 1:\n",
    "                    self.create_rectangle(i*scale, \n",
    "                                          (i+1)*scale, \n",
    "                                          j*scale, \n",
    "                                          (j+1)*scale, \n",
    "                                          fill=\"white\",\n",
    "                                          label=\"block\")\n",
    "                else:\n",
    "                    self.create_rectangle(i*scale, \n",
    "                                          (i+1)*scale, \n",
    "                                          j*scale, \n",
    "                                          (j+1)*scale, \n",
    "                                          fill=\"black\",\n",
    "                                          label=\"block\")\n",
    "        \n",
    "        self.time=(self.time+1)%self.steps\n",
    "        \n",
    "        super().update()\n",
    "        self.after(1000, self.run)\n",
    "        "
   ]
  },
  {
   "cell_type": "code",
   "execution_count": 68,
   "metadata": {},
   "outputs": [
    {
     "name": "stdout",
     "output_type": "stream",
     "text": [
      "0\n"
     ]
    },
    {
     "ename": "NameError",
     "evalue": "name 'scale' is not defined",
     "output_type": "error",
     "traceback": [
      "\u001b[0;31m---------------------------------------------------------------------------\u001b[0m",
      "\u001b[0;31mNameError\u001b[0m                                 Traceback (most recent call last)",
      "\u001b[0;32m<ipython-input-68-b536304e5279>\u001b[0m in \u001b[0;36m<module>\u001b[0;34m\u001b[0m\n\u001b[1;32m      2\u001b[0m \u001b[0mH\u001b[0m\u001b[0;34m=\u001b[0m\u001b[0;36m600\u001b[0m\u001b[0;34m\u001b[0m\u001b[0;34m\u001b[0m\u001b[0m\n\u001b[1;32m      3\u001b[0m \u001b[0mcanvas\u001b[0m \u001b[0;34m=\u001b[0m \u001b[0mTk\u001b[0m\u001b[0;34m(\u001b[0m\u001b[0;34m)\u001b[0m\u001b[0;34m\u001b[0m\u001b[0;34m\u001b[0m\u001b[0m\n\u001b[0;32m----> 4\u001b[0;31m \u001b[0manimation\u001b[0m \u001b[0;34m=\u001b[0m \u001b[0mMyCanvas\u001b[0m\u001b[0;34m(\u001b[0m\u001b[0mcanvas\u001b[0m\u001b[0;34m,\u001b[0m\u001b[0mexample\u001b[0m\u001b[0;34m)\u001b[0m\u001b[0;34m\u001b[0m\u001b[0;34m\u001b[0m\u001b[0m\n\u001b[0m",
      "\u001b[0;32m<ipython-input-67-702f09c220b3>\u001b[0m in \u001b[0;36m__init__\u001b[0;34m(self, master, systems, W, H)\u001b[0m\n\u001b[1;32m     26\u001b[0m         \u001b[0mself\u001b[0m\u001b[0;34m.\u001b[0m\u001b[0msteps\u001b[0m \u001b[0;34m=\u001b[0m \u001b[0mlen\u001b[0m\u001b[0;34m(\u001b[0m\u001b[0msystems\u001b[0m\u001b[0;34m)\u001b[0m\u001b[0;34m\u001b[0m\u001b[0;34m\u001b[0m\u001b[0m\n\u001b[1;32m     27\u001b[0m         \u001b[0mself\u001b[0m\u001b[0;34m.\u001b[0m\u001b[0mscale\u001b[0m \u001b[0;34m=\u001b[0m \u001b[0mW\u001b[0m\u001b[0;34m//\u001b[0m\u001b[0mself\u001b[0m\u001b[0;34m.\u001b[0m\u001b[0mN\u001b[0m\u001b[0;34m\u001b[0m\u001b[0;34m\u001b[0m\u001b[0m\n\u001b[0;32m---> 28\u001b[0;31m         \u001b[0mself\u001b[0m\u001b[0;34m.\u001b[0m\u001b[0mrun\u001b[0m\u001b[0;34m(\u001b[0m\u001b[0;34m)\u001b[0m\u001b[0;34m\u001b[0m\u001b[0;34m\u001b[0m\u001b[0m\n\u001b[0m\u001b[1;32m     29\u001b[0m \u001b[0;34m\u001b[0m\u001b[0m\n\u001b[1;32m     30\u001b[0m \u001b[0;34m\u001b[0m\u001b[0m\n",
      "\u001b[0;32m<ipython-input-67-702f09c220b3>\u001b[0m in \u001b[0;36mrun\u001b[0;34m(self)\u001b[0m\n\u001b[1;32m     43\u001b[0m \u001b[0;34m\u001b[0m\u001b[0m\n\u001b[1;32m     44\u001b[0m                 \u001b[0;32mif\u001b[0m \u001b[0mself\u001b[0m\u001b[0;34m.\u001b[0m\u001b[0mspin\u001b[0m \u001b[0;34m==\u001b[0m \u001b[0;36m1\u001b[0m\u001b[0;34m:\u001b[0m\u001b[0;34m\u001b[0m\u001b[0;34m\u001b[0m\u001b[0m\n\u001b[0;32m---> 45\u001b[0;31m                     self.create_rectangle(i*scale, \n\u001b[0m\u001b[1;32m     46\u001b[0m                                           \u001b[0;34m(\u001b[0m\u001b[0mi\u001b[0m\u001b[0;34m+\u001b[0m\u001b[0;36m1\u001b[0m\u001b[0;34m)\u001b[0m\u001b[0;34m*\u001b[0m\u001b[0mscale\u001b[0m\u001b[0;34m,\u001b[0m\u001b[0;34m\u001b[0m\u001b[0;34m\u001b[0m\u001b[0m\n\u001b[1;32m     47\u001b[0m                                           \u001b[0mj\u001b[0m\u001b[0;34m*\u001b[0m\u001b[0mscale\u001b[0m\u001b[0;34m,\u001b[0m\u001b[0;34m\u001b[0m\u001b[0;34m\u001b[0m\u001b[0m\n",
      "\u001b[0;31mNameError\u001b[0m: name 'scale' is not defined"
     ]
    }
   ],
   "source": [
    "W=600\n",
    "H=600\n",
    "canvas = Tk()\n",
    "animation = MyCanvas(canvas,example)"
   ]
  },
  {
   "cell_type": "code",
   "execution_count": 66,
   "metadata": {},
   "outputs": [
    {
     "data": {
      "text/plain": [
       "array([1, 0, 0, 1, 1, 0, 1, 0, 0, 0])"
      ]
     },
     "execution_count": 66,
     "metadata": {},
     "output_type": "execute_result"
    }
   ],
   "source": [
    "animation.data[0][0]"
   ]
  },
  {
   "cell_type": "code",
   "execution_count": null,
   "metadata": {},
   "outputs": [],
   "source": []
  }
 ],
 "metadata": {
  "kernelspec": {
   "display_name": "Python 3",
   "language": "python",
   "name": "python3"
  },
  "language_info": {
   "codemirror_mode": {
    "name": "ipython",
    "version": 3
   },
   "file_extension": ".py",
   "mimetype": "text/x-python",
   "name": "python",
   "nbconvert_exporter": "python",
   "pygments_lexer": "ipython3",
   "version": "3.8.2"
  }
 },
 "nbformat": 4,
 "nbformat_minor": 4
}
