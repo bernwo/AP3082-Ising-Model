{
 "cells": [
  {
   "cell_type": "code",
   "execution_count": 1,
   "metadata": {},
   "outputs": [],
   "source": [
    "import tkinter as tk\n",
    "from matplotlib.backends.backend_tkagg import FigureCanvasTkAgg\n",
    "import matplotlib.pyplot as plt\n",
    "import matplotlib\n",
    "import math"
   ]
  },
  {
   "cell_type": "code",
   "execution_count": 2,
   "metadata": {},
   "outputs": [],
   "source": [
    "def updateGraph():\n",
    "    \"\"\"Example function triggered by Tkinter GUI to change matplotlib graphs.\"\"\"\n",
    "    global currentGraph\n",
    "    # Clear all graphs drawn in figure\n",
    "    plt.clf()\n",
    "    y = []\n",
    "    if currentGraph == \"sin\":\n",
    "        for i in x:\n",
    "            y.append(math.cos(i))\n",
    "        currentGraph = \"cos\"\n",
    "    else:\n",
    "        for i in x:\n",
    "            y.append(math.sin(i))\n",
    "        currentGraph = \"sin\"\n",
    "    plt.plot(x,y)\n",
    "    fig.canvas.draw()\n"
   ]
  },
  {
   "cell_type": "code",
   "execution_count": 3,
   "metadata": {},
   "outputs": [],
   "source": [
    "# This defines the Python GUI backend to use for matplotlib\n",
    "matplotlib.use('TkAgg')\n",
    "\n",
    "# Initialize an instance of Tk\n",
    "root = tk.Tk()\n",
    "\n",
    "# Initialize matplotlib figure for graphing purposes\n",
    "fig = plt.figure(1)\n",
    "\n",
    "# Special type of \"canvas\" to allow for matplotlib graphing\n",
    "canvas = FigureCanvasTkAgg(fig, master=root)\n",
    "plot_widget = canvas.get_tk_widget()\n",
    "\n",
    "# Example data (note: default calculations for angles are in radians)\n",
    "x = []\n",
    "for i in range(0, 500):\n",
    "    x.append(i/10)\n",
    "y = []\n",
    "for i in x:\n",
    "    y.append(math.sin(i))\n",
    "plt.plot(x, y)\n",
    "\n",
    "currentGraph = \"sin\"\n",
    "\n",
    "# Add the plot to the tkinter widget\n",
    "plot_widget.grid(row=0, column=0)\n",
    "# Create a tkinter button at the bottom of the window and link it with the updateGraph function\n",
    "tk.Button(root,text=\"Update\",command=updateGraph).grid(row=1, column=0)\n",
    "\n",
    "root.mainloop()"
   ]
  },
  {
   "cell_type": "code",
   "execution_count": 5,
   "metadata": {},
   "outputs": [],
   "source": [
    "def init_neg_lattice(L):\n",
    "    spins = -np.ones([L,L],dtype=int)\n",
    "    return spins"
   ]
  },
  {
   "cell_type": "code",
   "execution_count": 7,
   "metadata": {},
   "outputs": [],
   "source": [
    "spins=init_neg_lattice(10)"
   ]
  },
  {
   "cell_type": "code",
   "execution_count": 9,
   "metadata": {},
   "outputs": [],
   "source": [
    "fig, (ax1, ax2) = plt.subplots(1,2)"
   ]
  },
  {
   "cell_type": "code",
   "execution_count": 10,
   "metadata": {},
   "outputs": [],
   "source": [
    "t = np.arange(0.0, 2.0, 0.01)\n",
    "s = 1 + np.sin(2 * np.pi * t)"
   ]
  },
  {
   "cell_type": "code",
   "execution_count": 11,
   "metadata": {},
   "outputs": [
    {
     "data": {
      "text/plain": [
       "[<matplotlib.lines.Line2D at 0x7f3ecfccf520>]"
      ]
     },
     "execution_count": 11,
     "metadata": {},
     "output_type": "execute_result"
    }
   ],
   "source": [
    "ax1.plot(t,s)"
   ]
  },
  {
   "cell_type": "code",
   "execution_count": 12,
   "metadata": {},
   "outputs": [
    {
     "data": {
      "text/plain": [
       "<matplotlib.image.AxesImage at 0x7f3ed0221e80>"
      ]
     },
     "execution_count": 12,
     "metadata": {},
     "output_type": "execute_result"
    }
   ],
   "source": [
    "ax2.imshow(spins,cmap='magma')"
   ]
  },
  {
   "cell_type": "code",
   "execution_count": 18,
   "metadata": {},
   "outputs": [],
   "source": [
    "fig.show()"
   ]
  },
  {
   "cell_type": "code",
   "execution_count": 21,
   "metadata": {},
   "outputs": [],
   "source": [
    "a=np.arange(1000)"
   ]
  },
  {
   "cell_type": "code",
   "execution_count": 23,
   "metadata": {},
   "outputs": [
    {
     "data": {
      "text/plain": [
       "array([0, 1, 2, 3, 4, 5, 6, 7, 8, 9])"
      ]
     },
     "execution_count": 23,
     "metadata": {},
     "output_type": "execute_result"
    }
   ],
   "source": [
    "a[:10]"
   ]
  },
  {
   "cell_type": "code",
   "execution_count": null,
   "metadata": {},
   "outputs": [],
   "source": []
  }
 ],
 "metadata": {
  "kernelspec": {
   "display_name": "Python 3",
   "language": "python",
   "name": "python3"
  },
  "language_info": {
   "codemirror_mode": {
    "name": "ipython",
    "version": 3
   },
   "file_extension": ".py",
   "mimetype": "text/x-python",
   "name": "python",
   "nbconvert_exporter": "python",
   "pygments_lexer": "ipython3",
   "version": "3.8.2"
  }
 },
 "nbformat": 4,
 "nbformat_minor": 4
}
